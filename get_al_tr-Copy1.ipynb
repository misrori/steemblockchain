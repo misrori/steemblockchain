{
 "cells": [
  {
   "cell_type": "code",
   "execution_count": null,
   "metadata": {
    "collapsed": false
   },
   "outputs": [],
   "source": [
    "from flask import Flask\n",
    "from flask import request\n",
    "import time\n",
    "import json\n",
    "from steem import Steem\n",
    "\n",
    "app = Flask(__name__)\n",
    " \n",
    "@app.route(\"/get_all_tr\", methods=['POST'])\n",
    "def get_all_tr():\n",
    "    data = request.get_json()\n",
    "    print(data)\n",
    "    name = data['name']\n",
    "    \n",
    "    osszes=[]\n",
    "    szamlalo=10000\n",
    "\n",
    "    while True:\n",
    "        print(szamlalo)\n",
    "        t = s.steemd.get_account_history(name, index_from=szamlalo, limit=10000)\n",
    "        if osszes:\n",
    "            utolso = osszes[-1][0]\n",
    "        else:\n",
    "            utolso=t[-1][0]\n",
    "        \n",
    "        if(t[-1][0]!=szamlalo):\n",
    "            kell_meg = t[-1][0]-utolso\n",
    "            osszes.extend(t[-kell_meg:])\n",
    "            break\n",
    "\n",
    "        osszes.extend(t[0:-1])\n",
    "        szamlalo+=10000\n",
    "        \n",
    "    return app.response_class(\n",
    "        response=json.dumps(osszes),\n",
    "        status=200,\n",
    "        mimetype='application/json' )\n",
    "\n",
    " \n",
    "if __name__ == \"__main__\":\n",
    "    s = Steem()\n",
    "    app.run(port= 54321)\n",
    "\n"
   ]
  },
  {
   "cell_type": "code",
   "execution_count": null,
   "metadata": {
    "collapsed": true
   },
   "outputs": [],
   "source": []
  },
  {
   "cell_type": "code",
   "execution_count": 2,
   "metadata": {
    "collapsed": false
   },
   "outputs": [],
   "source": [
    "\n",
    "from steem import Steem\n",
    "s = Steem()"
   ]
  },
  {
   "cell_type": "code",
   "execution_count": 4,
   "metadata": {
    "collapsed": false
   },
   "outputs": [
    {
     "data": {
      "text/plain": [
       "{'block_id': '0000000109833ce528d5bbfb3f6225b39ee10086',\n",
       " 'extensions': [],\n",
       " 'previous': '0000000000000000000000000000000000000000',\n",
       " 'signing_key': 'STM8GC13uCZbP44HzMLV6zPZGwVQ8Nt4Kji8PapsPiNq1BK153XTX',\n",
       " 'timestamp': '2016-03-24T16:05:00',\n",
       " 'transaction_ids': [],\n",
       " 'transaction_merkle_root': '0000000000000000000000000000000000000000',\n",
       " 'transactions': [],\n",
       " 'witness': 'initminer',\n",
       " 'witness_signature': '204f8ad56a8f5cf722a02b035a61b500aa59b9519b2c33c77a80c0a714680a5a5a7a340d909d19996613c5e4ae92146b9add8a7a663eef37d837ef881477313043'}"
      ]
     },
     "execution_count": 4,
     "metadata": {},
     "output_type": "execute_result"
    }
   ],
   "source": [
    "s.steemd.get_block(1)"
   ]
  },
  {
   "cell_type": "code",
   "execution_count": null,
   "metadata": {
    "collapsed": true
   },
   "outputs": [],
   "source": []
  },
  {
   "cell_type": "code",
   "execution_count": null,
   "metadata": {
    "collapsed": true
   },
   "outputs": [],
   "source": [
    "    osszes=[]\n",
    "    szamlalo=10000\n",
    "\n",
    "    while True:\n",
    "        print(szamlalo)\n",
    "        t = s.steemd.get_account_history(name, index_from=szamlalo, limit=10000)\n",
    "        if osszes:\n",
    "            utolso = osszes[-1][0]\n",
    "        else:\n",
    "            utolso=t[-1][0]\n",
    "        \n",
    "        if(t[-1][0]!=szamlalo):\n",
    "            kell_meg = t[-1][0]-utolso\n",
    "            osszes.extend(t[-kell_meg:])\n",
    "            break\n",
    "\n",
    "        osszes.extend(t[0:-1])\n",
    "        szamlalo+=10000\n",
    "        \n",
    "    return app.response_class(\n",
    "        response=json.dumps({'nevem':name}),\n",
    "        status=200,\n",
    "        mimetype='application/json' )\n",
    "\n"
   ]
  },
  {
   "cell_type": "code",
   "execution_count": null,
   "metadata": {
    "collapsed": true
   },
   "outputs": [],
   "source": []
  },
  {
   "cell_type": "code",
   "execution_count": null,
   "metadata": {
    "collapsed": true
   },
   "outputs": [],
   "source": [
    "from steem import Steem\n",
    "import pandas as pd\n",
    "s = Steem()\n",
    "\n",
    "\n",
    "def get_number_of_transaction(name):\n",
    "\n",
    "    t = s.steemd.get_account_history(name,index_from=-1, limit=1 )\n",
    "\n",
    "    return(t[-1][0]+1)\n",
    "\n",
    "def get_all_tr(name):\n",
    "    osszes=[]\n",
    "    szamlalo=10000\n",
    "\n",
    "    while True:\n",
    "        print(szamlalo)\n",
    "        t = s.steemd.get_account_history(name, index_from=szamlalo, limit=10000)\n",
    "        if osszes:\n",
    "            utolso = osszes[-1][0]\n",
    "        else:\n",
    "            utolso=t[-1][0]\n",
    "        \n",
    "        if(t[-1][0]!=szamlalo):\n",
    "            kell_meg = t[-1][0]-utolso\n",
    "            osszes.extend(t[-kell_meg:])\n",
    "            break\n",
    "\n",
    "        osszes.extend(t[0:-1])\n",
    "        szamlalo+=10000\n",
    "    return(osszes)\n"
   ]
  },
  {
   "cell_type": "code",
   "execution_count": null,
   "metadata": {
    "collapsed": false
   },
   "outputs": [],
   "source": [
    "osszes = get_all_tr('ned')"
   ]
  },
  {
   "cell_type": "code",
   "execution_count": null,
   "metadata": {
    "collapsed": false
   },
   "outputs": [],
   "source": [
    "len(osszes)"
   ]
  },
  {
   "cell_type": "code",
   "execution_count": null,
   "metadata": {
    "collapsed": false
   },
   "outputs": [],
   "source": [
    "osszes[0:1000]"
   ]
  },
  {
   "cell_type": "code",
   "execution_count": null,
   "metadata": {
    "collapsed": true
   },
   "outputs": [],
   "source": [
    "tr = list(filter(lambda x: x[1]['op'][0]=='transfer', osszes))"
   ]
  },
  {
   "cell_type": "code",
   "execution_count": null,
   "metadata": {
    "collapsed": false
   },
   "outputs": [],
   "source": [
    "tr[2][1]['op'][1]['amount'].split(' ')[1]"
   ]
  },
  {
   "cell_type": "code",
   "execution_count": null,
   "metadata": {
    "collapsed": true
   },
   "outputs": [],
   "source": [
    "def get_tr_pd(all_tr):\n",
    "    #filter\n",
    "    transactions = list(filter(lambda x: x[1]['op'][0]=='transfer', all_tr))\n",
    "    \n",
    "    just_tr = list(map(lambda x: {'amount': x[1]['op'][1]['amount'],\n",
    "                                 'from': x[1]['op'][1]['from'],\n",
    "                                 'memo': x[1]['op'][1]['memo'],\n",
    "                                 'to': x[1]['op'][1]['to'],\n",
    "                                 'currency': x[1]['op'][1]['amount'].split(' ')[1],\n",
    "                                 'currency_amount': float(x[1]['op'][1]['amount'].split(' ')[0]),\n",
    "                                 'timestamp': x[1]['timestamp']},transactions))\n",
    "    \n",
    "    return(pd.DataFrame(just_tr))\n",
    "    "
   ]
  },
  {
   "cell_type": "code",
   "execution_count": null,
   "metadata": {
    "collapsed": true
   },
   "outputs": [],
   "source": [
    "df = get_tr_pd(osszes)\n",
    "df.sort_values(by='currency_amount', ascending=False)"
   ]
  },
  {
   "cell_type": "code",
   "execution_count": null,
   "metadata": {
    "collapsed": false
   },
   "outputs": [],
   "source": [
    "df.sort_values(by='currency_amount', ascending=False)"
   ]
  },
  {
   "cell_type": "code",
   "execution_count": null,
   "metadata": {
    "collapsed": true
   },
   "outputs": [],
   "source": []
  },
  {
   "cell_type": "code",
   "execution_count": null,
   "metadata": {
    "collapsed": false
   },
   "outputs": [],
   "source": [
    "misrori = get_all_tr('misrori')"
   ]
  },
  {
   "cell_type": "code",
   "execution_count": null,
   "metadata": {
    "collapsed": false,
    "scrolled": true
   },
   "outputs": [],
   "source": [
    "df = get_tr_pd(misrori)\n",
    "df.sort_values(by='currency_amount', ascending=False)"
   ]
  },
  {
   "cell_type": "code",
   "execution_count": null,
   "metadata": {
    "collapsed": false
   },
   "outputs": [],
   "source": [
    "misrori[-500:]"
   ]
  },
  {
   "cell_type": "code",
   "execution_count": null,
   "metadata": {
    "collapsed": true
   },
   "outputs": [],
   "source": []
  },
  {
   "cell_type": "code",
   "execution_count": null,
   "metadata": {
    "collapsed": true
   },
   "outputs": [],
   "source": []
  }
 ],
 "metadata": {
  "kernelspec": {
   "display_name": "Python 3",
   "language": "python",
   "name": "python3"
  },
  "language_info": {
   "codemirror_mode": {
    "name": "ipython",
    "version": 3
   },
   "file_extension": ".py",
   "mimetype": "text/x-python",
   "name": "python",
   "nbconvert_exporter": "python",
   "pygments_lexer": "ipython3",
   "version": "3.5.1"
  }
 },
 "nbformat": 4,
 "nbformat_minor": 2
}
