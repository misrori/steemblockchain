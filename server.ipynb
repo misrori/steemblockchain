{
 "cells": [
  {
   "cell_type": "code",
   "execution_count": null,
   "metadata": {
    "collapsed": false
   },
   "outputs": [],
   "source": [
    "from flask import Flask\n",
    "from flask import request\n",
    "import time\n",
    "import json\n",
    "\n",
    "\n",
    "app = Flask(__name__)\n",
    " \n",
    "@app.route(\"/process\", methods=['POST'])\n",
    "def hello():\n",
    "    data = request.get_json()\n",
    "    print(data)\n",
    "    name = data['name']\n",
    "    return app.response_class(\n",
    "        response=json.dumps({'nevem':name}),\n",
    "        status=200,\n",
    "        mimetype='application/json' )\n",
    " \n",
    "if __name__ == \"__main__\":\n",
    "    app.run(port= 4545)\n",
    "\n"
   ]
  },
  {
   "cell_type": "code",
   "execution_count": null,
   "metadata": {
    "collapsed": true
   },
   "outputs": [],
   "source": []
  },
  {
   "cell_type": "code",
   "execution_count": null,
   "metadata": {
    "collapsed": true
   },
   "outputs": [],
   "source": [
    "import sys\n",
    "sys.path.append(\"..\")\n",
    "from om.BiAPI import Worker\n",
    "from om.BiData import BinanceData\n",
    "import pandas as pd\n",
    "from flask import Flask\n",
    "import time\n",
    "import json\n",
    "\n",
    "app = Flask(__name__)\n",
    "\n",
    "@app.route('/', methods=['GET'])\n",
    "def _adatLeker(**kwargs):\n",
    "    # lekér\n",
    "    last_update = B.get_time()\n",
    "    \n",
    "    current_price=B.get_current_tickers()\n",
    "    \n",
    "    d1m = B.get_window_ticker_deltas(1*60*1000, in_percentage=True)\n",
    "    d3m = B.get_window_ticker_deltas(3*60*1000, in_percentage=True)\n",
    "    d5m = B.get_window_ticker_deltas(5*60*1000, in_percentage=True)\n",
    "    d15m = B.get_window_ticker_deltas(15*60*1000, in_percentage=True)\n",
    "    \n",
    "    means = B.get_mean()\n",
    "\n",
    "        \n",
    "    data_change = {'d1m':d1m,\n",
    "            'd3m':d3m,\n",
    "            'd5m':d5m, \n",
    "            'd15m':d15m}\n",
    "\n",
    "    # objektum készítés\n",
    "    data_to_send = {'last_update': last_update,\n",
    "                    'prices' : current_price,\n",
    "                    'data_change':data_change,\n",
    "                    'means':means}\n",
    "    # post -olod\n",
    "    # flask\n",
    "    return app.response_class(\n",
    "        response=json.dumps(data_to_send),\n",
    "        status=200,\n",
    "        mimetype='application/json' )\n",
    "\n",
    "\n",
    "if __name__ == '__main__':\n",
    "    B = Worker(api_key='okkuE5o6cBw9UfkoYG0xL8ENTYAYla6m9wSek0dKpjAG6EzcQXlO1QVO0rcKyi3X',\n",
    "           api_secret='Yf7TfoZ9MlxiCyDKfTafY6jvS8Kez14NYcMl2a5yS1jPeOchr1x9aleQUVX0RTj5',\n",
    "           means=[1*1*60*1000, 7*15*60*1000, 25*15*60*1000, 99*15*60*1000])\n",
    "\n",
    "    B.event_add('data', _adatLeker)\n",
    "    B.init()\n",
    "    app.run(host='0.0.0.0', debug=True)\n",
    "\n"
   ]
  }
 ],
 "metadata": {
  "anaconda-cloud": {},
  "kernelspec": {
   "display_name": "Python 3",
   "language": "python",
   "name": "python3"
  },
  "language_info": {
   "codemirror_mode": {
    "name": "ipython",
    "version": 3
   },
   "file_extension": ".py",
   "mimetype": "text/x-python",
   "name": "python",
   "nbconvert_exporter": "python",
   "pygments_lexer": "ipython3",
   "version": "3.5.1"
  }
 },
 "nbformat": 4,
 "nbformat_minor": 2
}
